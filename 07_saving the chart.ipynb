{
 "cells": [
  {
   "cell_type": "code",
   "execution_count": 1,
   "id": "fbb25e77",
   "metadata": {},
   "outputs": [],
   "source": [
    "# creating the chart\n",
    "import matplotlib.pyplot as plt\n",
    "import numpy as np\n",
    "import pandas as pd"
   ]
  },
  {
   "cell_type": "code",
   "execution_count": 2,
   "id": "9a9cac9a",
   "metadata": {},
   "outputs": [],
   "source": [
    "company = ['GOOGLE','AMAZON','MICROSOFT','FACEBOOK']\n",
    "revenue = [90,136,89,27]\n",
    "profit = [40,2,34,12]"
   ]
  },
  {
   "cell_type": "code",
   "execution_count": 3,
   "id": "5de71450",
   "metadata": {},
   "outputs": [
    {
     "data": {
      "text/html": [
       "<div>\n",
       "<style scoped>\n",
       "    .dataframe tbody tr th:only-of-type {\n",
       "        vertical-align: middle;\n",
       "    }\n",
       "\n",
       "    .dataframe tbody tr th {\n",
       "        vertical-align: top;\n",
       "    }\n",
       "\n",
       "    .dataframe thead th {\n",
       "        text-align: right;\n",
       "    }\n",
       "</style>\n",
       "<table border=\"1\" class=\"dataframe\">\n",
       "  <thead>\n",
       "    <tr style=\"text-align: right;\">\n",
       "      <th></th>\n",
       "      <th>company</th>\n",
       "      <th>revenue</th>\n",
       "      <th>profit</th>\n",
       "    </tr>\n",
       "  </thead>\n",
       "  <tbody>\n",
       "    <tr>\n",
       "      <th>0</th>\n",
       "      <td>GOOGLE</td>\n",
       "      <td>90</td>\n",
       "      <td>40</td>\n",
       "    </tr>\n",
       "    <tr>\n",
       "      <th>1</th>\n",
       "      <td>AMAZON</td>\n",
       "      <td>136</td>\n",
       "      <td>2</td>\n",
       "    </tr>\n",
       "    <tr>\n",
       "      <th>2</th>\n",
       "      <td>MICROSOFT</td>\n",
       "      <td>89</td>\n",
       "      <td>34</td>\n",
       "    </tr>\n",
       "    <tr>\n",
       "      <th>3</th>\n",
       "      <td>FACEBOOK</td>\n",
       "      <td>27</td>\n",
       "      <td>12</td>\n",
       "    </tr>\n",
       "  </tbody>\n",
       "</table>\n",
       "</div>"
      ],
      "text/plain": [
       "     company  revenue  profit\n",
       "0     GOOGLE       90      40\n",
       "1     AMAZON      136       2\n",
       "2  MICROSOFT       89      34\n",
       "3   FACEBOOK       27      12"
      ]
     },
     "execution_count": 3,
     "metadata": {},
     "output_type": "execute_result"
    }
   ],
   "source": [
    "US_stock_report = {\n",
    "    'company': company,\n",
    "    'revenue': revenue,\n",
    "    'profit': profit\n",
    "}\n",
    "\n",
    "df = pd.DataFrame(US_stock_report)\n",
    "df"
   ]
  },
  {
   "cell_type": "code",
   "execution_count": 4,
   "id": "52c9ecec",
   "metadata": {},
   "outputs": [
    {
     "data": {
      "text/plain": [
       "array([0, 1, 2, 3])"
      ]
     },
     "execution_count": 4,
     "metadata": {},
     "output_type": "execute_result"
    }
   ],
   "source": [
    "xpos = np.arange(4)\n",
    "xpos"
   ]
  },
  {
   "cell_type": "markdown",
   "id": "eea996bc",
   "metadata": {},
   "source": [
    "## To Save a Chart\n",
    "\n",
    "use savefig() option in matplotlib \n",
    "\n",
    "savefig(`filename`, bbox_inches=`(tight) to fit correctly`, pad_inches=`inches`, transparent=`boolean`)"
   ]
  },
  {
   "cell_type": "code",
   "execution_count": 7,
   "id": "75fa6043",
   "metadata": {},
   "outputs": [
    {
     "data": {
      "image/png": "[encoded data removed]",
      "text/plain": [
       "<Figure size 640x480 with 1 Axes>"
      ]
     },
     "metadata": {},
     "output_type": "display_data"
    }
   ],
   "source": [
    "plt.xticks(xpos, company)\n",
    "plt.title('US stock reports')\n",
    "plt.ylabel('revenue and profits')\n",
    "plt.bar(xpos-0.2, revenue, label='revenue', width=0.4)\n",
    "plt.bar(xpos+0.2, profit, label='profit', width=0.4)\n",
    "plt.legend()\n",
    "\n",
    "plt.savefig('us_stock', bbox_inches='tight', pad_inches=1.2, transparent=True)\n",
    "\n",
    "plt.show()"
   ]
  },
  {
   "cell_type": "markdown",
   "id": "40ae5cc0",
   "metadata": {},
   "source": [
    "## The saved file is\n",
    "\n",
    "<img src='us_stock.png'>"
   ]
  },
  {
   "cell_type": "code",
   "execution_count": null,
   "id": "4217ef6e",
   "metadata": {},
   "outputs": [],
   "source": []
  }
 ],
 "metadata": {
  "kernelspec": {
   "display_name": "Python 3 (ipykernel)",
   "language": "python",
   "name": "python3"
  },
  "language_info": {
   "codemirror_mode": {
    "name": "ipython",
    "version": 3
   },
   "file_extension": ".py",
   "mimetype": "text/x-python",
   "name": "python",
   "nbconvert_exporter": "python",
   "pygments_lexer": "ipython3",
   "version": "3.11.3"
  }
 },
 "nbformat": 4,
 "nbformat_minor": 5
}
